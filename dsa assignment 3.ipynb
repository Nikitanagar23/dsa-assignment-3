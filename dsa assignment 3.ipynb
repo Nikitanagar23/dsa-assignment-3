{
 "cells": [
  {
   "cell_type": "code",
   "execution_count": 1,
   "id": "f9491a3b-a186-489c-b985-64fd81a06b8b",
   "metadata": {
    "tags": []
   },
   "outputs": [],
   "source": [
    "#RECURSION RELATION"
   ]
  },
  {
   "cell_type": "code",
   "execution_count": 2,
   "id": "cd9750e3-234a-41bf-a1ba-9139d5a2b4d8",
   "metadata": {
    "tags": []
   },
   "outputs": [],
   "source": [
    "#ASSIGNMENT QUESTION"
   ]
  },
  {
   "cell_type": "code",
   "execution_count": 3,
   "id": "96394053-e4e4-4679-8456-d3011ee532e3",
   "metadata": {
    "tags": []
   },
   "outputs": [],
   "source": [
    "#QUESTION 1"
   ]
  },
  {
   "cell_type": "code",
   "execution_count": 4,
   "id": "04ef57b9-e946-48b7-bb3a-37507156288f",
   "metadata": {
    "tags": []
   },
   "outputs": [],
   "source": [
    "#FIND THE VALUE OF T(2) FOR THE RECURRENCE T(n)=3T(n-1)+12n, GIVEN THAT T(0)=5."
   ]
  },
  {
   "cell_type": "code",
   "execution_count": null,
   "id": "daa871ee-3680-4527-b484-b7a358161ba3",
   "metadata": {},
   "outputs": [],
   "source": [
    "\"\"\"\n",
    "T(0)=5\n",
    "T(2)=?\n",
    "T(n)=3T(n-1)+12(2)\n",
    "T(2)=3T(1)+24\n",
    "NOW, WE NEED TO FIND T(1). \n",
    "T(1)=3T(1-1)+12(1)\n",
    "T(1)=3T(0)+12\n",
    "NOW, SUBSTITUTE T(1) IN T(2)\n",
    "T(2)=3(3T(0)+12)+24\n",
    "T(2)=9T(0)+36+24\n",
    "FINALLY,SUBSTITUTE T(0)=5\n",
    "T(2)=9(5)+36+24\n",
    "T(2)=45+36+24\n",
    "T(2)=105\n",
    "SO, THE VALUE OF T(2) IS 105."
   ]
  },
  {
   "cell_type": "code",
   "execution_count": null,
   "id": "d148d8e1-dcfc-4627-854b-db0817c5f02c",
   "metadata": {},
   "outputs": [],
   "source": []
  },
  {
   "cell_type": "code",
   "execution_count": null,
   "id": "6394eb45-678c-4cf7-ac06-4beead8ae20b",
   "metadata": {},
   "outputs": [],
   "source": []
  },
  {
   "cell_type": "code",
   "execution_count": 5,
   "id": "37da1427-f775-4da6-8d3b-b99fac73d9e2",
   "metadata": {
    "tags": []
   },
   "outputs": [],
   "source": [
    "#QUESTION 2"
   ]
  },
  {
   "cell_type": "code",
   "execution_count": 6,
   "id": "a4c8e31b-10e9-48df-ba11-42f37392612d",
   "metadata": {
    "tags": []
   },
   "outputs": [],
   "source": [
    "#GIVEN A RECURRENCE RELATION, SOLVE IT USING THE SUBSTITUTION METHOD:"
   ]
  },
  {
   "cell_type": "code",
   "execution_count": null,
   "id": "477d98d6-67bc-49a2-908c-9cdac5f64e3e",
   "metadata": {},
   "outputs": [],
   "source": [
    "\"\"\"[A]\n",
    "T(n)=T(n-1)+c\n",
    "WE ASSUME THAT T(k)=O(k)\n",
    "n=1\n",
    "T(1)=T(0)+c\n",
    "T(0) IS CONSTANT\n",
    "T(1)=O(1)\n",
    "NOW, LETS ASSUME THAT T(K)=O(K)\n",
    "T(k)<=c'k\n",
    "T(k+1)<=C'k+C\n",
    "NEW CONSTANT c'' = c' + c. \n",
    "T(k+1)<=c''(k+1).\n",
    "T(n)=O(n).\n",
    "T(n)=T(n-1)+c IS T(n)=O(n)"
   ]
  },
  {
   "cell_type": "code",
   "execution_count": null,
   "id": "dc29989b-f3e9-4392-bead-965baf4c954c",
   "metadata": {},
   "outputs": [],
   "source": [
    "\"\"\"[B]\n",
    "T(n)=2T(n/2)+n\n",
    "WE ASSUME THAT T(K)=O(k log k)\n",
    "T(1)=2T(1/2)+1\n",
    "T(1/2) IS A CONSTANT,\n",
    "T(1)=O(1)\n",
    "T(k) = O(k log k)\n",
    "T(k)<=c'k log k\n",
    "NOW LET'S CONSIDER T(k+1)\n",
    "T(k+1)=2T((K+1/2)+(K+1),+2(c'(k+!)/2 log((k+1)/2))+(k+1)\n",
    "T(K+1)<=C'(k+1)log((k+1)/2)+(k+1)\n",
    "NEW CONSTANT c''=c'+1\n",
    "T(k+1),=c''(k+1)log((k+1)/2)\n",
    "T(n)=2T(n/2)+n is T(n)=O(n log n)"
   ]
  },
  {
   "cell_type": "code",
   "execution_count": null,
   "id": "516ae2e7-aa54-4887-98ba-6de832f120c7",
   "metadata": {},
   "outputs": [],
   "source": [
    "\"\"\"[C]\n",
    "T(n)=2T(n/2)+c\n",
    "HERE c IS CONSTANT\n",
    "T(n)=aT(n/b)+f(n)\n",
    "WHERE a>=1, b>1, and f(n)\n",
    "a=2, b=2, f(n)=c\n",
    "comparing f(n)=c with n^log_b(a) \n",
    "which is n^log_2(2)=n,\n",
    "f(n) = c is a constant\n",
    "case 1, if f(n)=O(n^log_b(a-e))      e>0\n",
    "TIME COMPLEXITY OF T(n) is Q(n^log_b(a))\n",
    "f(n)=c is a constant\n",
    "O(n^log_b(a-e))=O(n^log_2(2-e))=O(n^0)=o(1)\n",
    "TIME COMPLEXITY OF T(n) is Q(n^log_b(a))=Q(n^log_2(2))=Q(n^1)=Q(n)\n",
    "T(n)=2T(n/2)+c is T(n)=Q(n).\n"
   ]
  },
  {
   "cell_type": "code",
   "execution_count": null,
   "id": "5bb6e7d3-421a-4309-9b03-8dc4b09355f6",
   "metadata": {},
   "outputs": [],
   "source": [
    "\"\"\"[D]\n",
    "T(n)=T(n/2)+c \n",
    "T(n) =O(log(n))\n",
    "t(n)=T(n/2)+c\n",
    "O(log(n))=O(log(N/2))+c\n",
    "since log(n/2) is equivalent to log(n)-log(2)\n",
    "O(log(n))=O(log(n)-log(2))+c\n",
    "O(log(n))=O(log(n)-1)+c\n",
    "now lets compare the two sides of the equation\n",
    "we see that O(log(n)) is greater than or equal to O(log(n)-1) for all value of n\n",
    "so our initial gues is correct\n",
    "Therefore, the solution to the recurrence relation \n",
    "T(n)=T(n/2)+c is T(n) = O(log(n))"
   ]
  },
  {
   "cell_type": "code",
   "execution_count": null,
   "id": "55dde817-2242-4ec8-8d81-66fdbd44b91a",
   "metadata": {},
   "outputs": [],
   "source": []
  },
  {
   "cell_type": "code",
   "execution_count": null,
   "id": "30678f4b-b35e-41dd-9888-cefb5a35f2c4",
   "metadata": {},
   "outputs": [],
   "source": []
  },
  {
   "cell_type": "code",
   "execution_count": 7,
   "id": "c4a36161-ac4f-439b-afb6-ca7b50c399db",
   "metadata": {},
   "outputs": [],
   "source": [
    "#QUESTION 3"
   ]
  },
  {
   "cell_type": "code",
   "execution_count": 1,
   "id": "89e34962-3853-48e8-8954-e48c2eda2f12",
   "metadata": {},
   "outputs": [],
   "source": [
    "#GIVEN A RECURRENCE RELATION, SOLVE IT USING THE RECURSIVE TREE APPROACH:"
   ]
  },
  {
   "cell_type": "code",
   "execution_count": null,
   "id": "30da8f24-631e-411c-84a9-a06bd9ec5bc5",
   "metadata": {},
   "outputs": [],
   "source": [
    "\"\"\"[a]\n",
    "T(n)=2T(n-1)\n",
    "\n",
    "lets start by expanding the recurrence relation:\n",
    "T(n)=2t(n-1)\n",
    "    =2*2T(n-2)\n",
    "    =2^2*T(n-2)\n",
    "    =2^3*t(n-3)\n",
    "    =....\n",
    "    =2^k*T(n-k)\n",
    "    \n",
    "we can see that each level of the tree represents a different value of k, where k starts from 0 and goes upto n.\n",
    "at each level, the value of T(n-k) is multiply by 2^k.\n",
    "\n",
    "Now, let the base case when k reaches n, \n",
    "we have T(n-n) = T(0).\n",
    "since T(0) represents the base case\n",
    "\n",
    "T(n)=2^n*T(0)\n",
    "T(n)=2T(n-1) is T(n)=2^n*T(0)"
   ]
  },
  {
   "cell_type": "code",
   "execution_count": null,
   "id": "2744ffd3-d77c-4e7e-b38c-318300ff474b",
   "metadata": {},
   "outputs": [],
   "source": [
    "\"\"\"[b]\n",
    "T(n)=2t(n/2)+n\n",
    "lets start by expanding the recurrence relation:\n",
    "T(n)=2t(n/2)+n\n",
    "    = 2*(2t(n/4)+n/2)+n\n",
    "    = 2^2*T(n/4)+2*n/2+n\n",
    "    =2^2*(2T(n/8)+n/4)+2*n/2+n\n",
    "    =...\n",
    "    =2^k*T(n/2^k)+k*n/2+n\n",
    "    \n",
    "we can see that each level of the tree represents a different value of k, where k starts from 0 and goes up to\n",
    "log(n) (base 2).\n",
    "At each level, the value of T(n/2^k) is multiplied by 2^k, and also add k*n/2+n\n",
    "\n",
    "Now let the base case. when k reaches log(n)\n",
    "T(n/2^log(n))=T(1).\n",
    "since T(1) represent the base case\n",
    "T(n)=2^log(n)*T(1)+log(n)*n/2+n\n",
    "2^log(n) is equal to n\n",
    "T(n)= n*T(1)+log(n)*n/2+n\n",
    "t(n)=2T(n"
   ]
  }
 ],
 "metadata": {
  "kernelspec": {
   "display_name": "Python 3 (ipykernel)",
   "language": "python",
   "name": "python3"
  },
  "language_info": {
   "codemirror_mode": {
    "name": "ipython",
    "version": 3
   },
   "file_extension": ".py",
   "mimetype": "text/x-python",
   "name": "python",
   "nbconvert_exporter": "python",
   "pygments_lexer": "ipython3",
   "version": "3.11.4"
  }
 },
 "nbformat": 4,
 "nbformat_minor": 5
}
